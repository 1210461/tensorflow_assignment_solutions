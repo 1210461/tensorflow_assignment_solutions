{
 "cells": [
  {
   "cell_type": "markdown",
   "metadata": {
    "colab_type": "text",
    "id": "kR-4eNdK6lYS"
   },
   "source": [
    "Deep Learning\n",
    "=============\n",
    "\n",
    "Assignment 3\n",
    "------------\n",
    "\n",
    "Previously in `2_fullyconnected.ipynb`, you trained a logistic regression and a neural network model.\n",
    "\n",
    "The goal of this assignment is to explore regularization techniques."
   ]
  },
  {
   "cell_type": "code",
   "execution_count": 1,
   "metadata": {
    "cellView": "both",
    "colab": {
     "autoexec": {
      "startup": false,
      "wait_interval": 0
     }
    },
    "colab_type": "code",
    "collapsed": true,
    "id": "JLpLa8Jt7Vu4"
   },
   "outputs": [],
   "source": [
    "# These are all the modules we'll be using later. Make sure you can import them\n",
    "# before proceeding further.\n",
    "from __future__ import print_function\n",
    "import numpy as np\n",
    "import tensorflow as tf\n",
    "from six.moves import cPickle as pickle"
   ]
  },
  {
   "cell_type": "markdown",
   "metadata": {
    "colab_type": "text",
    "id": "1HrCK6e17WzV"
   },
   "source": [
    "First reload the data we generated in _notmist.ipynb_."
   ]
  },
  {
   "cell_type": "code",
   "execution_count": 2,
   "metadata": {
    "cellView": "both",
    "colab": {
     "autoexec": {
      "startup": false,
      "wait_interval": 0
     },
     "output_extras": [
      {
       "item_id": 1
      }
     ]
    },
    "colab_type": "code",
    "collapsed": false,
    "executionInfo": {
     "elapsed": 11777,
     "status": "ok",
     "timestamp": 1449849322348,
     "user": {
      "color": "",
      "displayName": "",
      "isAnonymous": false,
      "isMe": true,
      "permissionId": "",
      "photoUrl": "",
      "sessionId": "0",
      "userId": ""
     },
     "user_tz": 480
    },
    "id": "y3-cj1bpmuxc",
    "outputId": "e03576f1-ebbe-4838-c388-f1777bcc9873"
   },
   "outputs": [
    {
     "name": "stdout",
     "output_type": "stream",
     "text": [
      "Training set (200000, 28, 28) (200000,)\n",
      "Validation set (10000, 28, 28) (10000,)\n",
      "Test set (10000, 28, 28) (10000,)\n"
     ]
    }
   ],
   "source": [
    "pickle_file = 'notMNIST.pickle'\n",
    "\n",
    "with open(pickle_file, 'rb') as f:\n",
    "  save = pickle.load(f)\n",
    "  train_dataset = save['train_dataset']\n",
    "  train_labels = save['train_labels']\n",
    "  valid_dataset = save['valid_dataset']\n",
    "  valid_labels = save['valid_labels']\n",
    "  test_dataset = save['test_dataset']\n",
    "  test_labels = save['test_labels']\n",
    "  del save  # hint to help gc free up memory\n",
    "  print('Training set', train_dataset.shape, train_labels.shape)\n",
    "  print('Validation set', valid_dataset.shape, valid_labels.shape)\n",
    "  print('Test set', test_dataset.shape, test_labels.shape)"
   ]
  },
  {
   "cell_type": "markdown",
   "metadata": {
    "colab_type": "text",
    "id": "L7aHrm6nGDMB"
   },
   "source": [
    "Reformat into a shape that's more adapted to the models we're going to train:\n",
    "- data as a flat matrix,\n",
    "- labels as float 1-hot encodings."
   ]
  },
  {
   "cell_type": "code",
   "execution_count": 3,
   "metadata": {
    "cellView": "both",
    "colab": {
     "autoexec": {
      "startup": false,
      "wait_interval": 0
     },
     "output_extras": [
      {
       "item_id": 1
      }
     ]
    },
    "colab_type": "code",
    "collapsed": false,
    "executionInfo": {
     "elapsed": 11728,
     "status": "ok",
     "timestamp": 1449849322356,
     "user": {
      "color": "",
      "displayName": "",
      "isAnonymous": false,
      "isMe": true,
      "permissionId": "",
      "photoUrl": "",
      "sessionId": "0",
      "userId": ""
     },
     "user_tz": 480
    },
    "id": "IRSyYiIIGIzS",
    "outputId": "3f8996ee-3574-4f44-c953-5c8a04636582"
   },
   "outputs": [
    {
     "name": "stdout",
     "output_type": "stream",
     "text": [
      "Training set (200000, 784) (200000, 10)\n",
      "Validation set (10000, 784) (10000, 10)\n",
      "Test set (10000, 784) (10000, 10)\n"
     ]
    }
   ],
   "source": [
    "image_size = 28\n",
    "num_labels = 10\n",
    "\n",
    "def reformat(dataset, labels):\n",
    "  dataset = dataset.reshape((-1, image_size * image_size)).astype(np.float32)\n",
    "  # Map 1 to [0.0, 1.0, 0.0 ...], 2 to [0.0, 0.0, 1.0 ...]\n",
    "  labels = (np.arange(num_labels) == labels[:,None]).astype(np.float32)\n",
    "  return dataset, labels\n",
    "train_dataset, train_labels = reformat(train_dataset, train_labels)\n",
    "valid_dataset, valid_labels = reformat(valid_dataset, valid_labels)\n",
    "test_dataset, test_labels = reformat(test_dataset, test_labels)\n",
    "print('Training set', train_dataset.shape, train_labels.shape)\n",
    "print('Validation set', valid_dataset.shape, valid_labels.shape)\n",
    "print('Test set', test_dataset.shape, test_labels.shape)"
   ]
  },
  {
   "cell_type": "code",
   "execution_count": 4,
   "metadata": {
    "cellView": "both",
    "colab": {
     "autoexec": {
      "startup": false,
      "wait_interval": 0
     }
    },
    "colab_type": "code",
    "collapsed": false,
    "id": "RajPLaL_ZW6w"
   },
   "outputs": [],
   "source": [
    "def accuracy(predictions, labels):\n",
    "  return (100.0 * np.sum(np.argmax(predictions, 1) == np.argmax(labels, 1))\n",
    "          / predictions.shape[0])"
   ]
  },
  {
   "cell_type": "markdown",
   "metadata": {
    "colab_type": "text",
    "id": "sgLbUAQ1CW-1"
   },
   "source": [
    "---\n",
    "Problem 1\n",
    "---------\n",
    "\n",
    "Introduce and tune L2 regularization for both logistic and neural network models. Remember that L2 amounts to adding a penalty on the norm of the weights to the loss. In TensorFlow, you can compute the L2 loss for a tensor `t` using `nn.l2_loss(t)`. The right amount of regularization should improve your validation / test accuracy.\n",
    "\n",
    "---"
   ]
  },
  {
   "cell_type": "markdown",
   "metadata": {},
   "source": [
    "### Logistic Regression Model with SGD"
   ]
  },
  {
   "cell_type": "code",
   "execution_count": 5,
   "metadata": {
    "collapsed": true
   },
   "outputs": [],
   "source": [
    "batch_size = 128\n",
    "L2_beta = 0.01 # beta for L2 loss regularization\n",
    "\n",
    "graph = tf.Graph()\n",
    "with graph.as_default():\n",
    "\n",
    "  # Input data. For the training data, we use a placeholder that will be fed\n",
    "  # at run time with a training minibatch.\n",
    "  tf_train_dataset = tf.placeholder(tf.float32,\n",
    "                                    shape=(batch_size, image_size * image_size))\n",
    "  tf_train_labels = tf.placeholder(tf.float32, shape=(batch_size, num_labels))\n",
    "  tf_valid_dataset = tf.constant(valid_dataset)\n",
    "  tf_test_dataset = tf.constant(test_dataset)\n",
    "  \n",
    "  # Variables.\n",
    "  weights = tf.Variable(\n",
    "    tf.truncated_normal([image_size * image_size, num_labels]))\n",
    "  biases = tf.Variable(tf.zeros([num_labels]))\n",
    "  \n",
    "  # Training computation.\n",
    "  logits = tf.matmul(tf_train_dataset, weights) + biases\n",
    "  L2_loss = L2_beta * (tf.nn.l2_loss(weights) + tf.nn.l2_loss(biases))\n",
    "  loss = tf.reduce_mean(tf.nn.softmax_cross_entropy_with_logits(logits, tf_train_labels)) + L2_loss\n",
    "  \n",
    "  # Optimizer.\n",
    "  optimizer = tf.train.GradientDescentOptimizer(0.5).minimize(loss)\n",
    "  \n",
    "  # Predictions for the training, validation, and test data.\n",
    "  train_prediction = tf.nn.softmax(logits)\n",
    "  valid_prediction = tf.nn.softmax(\n",
    "    tf.matmul(tf_valid_dataset, weights) + biases)\n",
    "  test_prediction = tf.nn.softmax(tf.matmul(tf_test_dataset, weights) + biases)"
   ]
  },
  {
   "cell_type": "code",
   "execution_count": 6,
   "metadata": {
    "collapsed": false
   },
   "outputs": [
    {
     "name": "stdout",
     "output_type": "stream",
     "text": [
      "Initialized\n",
      "Minibatch loss at step 0: 51.907349\n",
      "Minibatch accuracy: 5.5%\n",
      "Validation accuracy: 11.6%\n",
      "Minibatch loss at step 500: 0.940102\n",
      "Minibatch accuracy: 83.6%\n",
      "Validation accuracy: 79.5%\n",
      "Minibatch loss at step 1000: 0.697103\n",
      "Minibatch accuracy: 82.8%\n",
      "Validation accuracy: 80.5%\n",
      "Minibatch loss at step 1500: 0.737018\n",
      "Minibatch accuracy: 81.2%\n",
      "Validation accuracy: 80.8%\n",
      "Minibatch loss at step 2000: 0.640727\n",
      "Minibatch accuracy: 85.2%\n",
      "Validation accuracy: 80.1%\n",
      "Minibatch loss at step 2500: 0.714441\n",
      "Minibatch accuracy: 83.6%\n",
      "Validation accuracy: 80.9%\n",
      "Minibatch loss at step 3000: 0.672891\n",
      "Minibatch accuracy: 82.8%\n",
      "Validation accuracy: 81.0%\n",
      "Test accuracy: 87.9%\n"
     ]
    }
   ],
   "source": [
    "num_steps = 3001\n",
    "\n",
    "with tf.Session(graph=graph) as session:\n",
    "  tf.global_variables_initializer().run() # v0.12 and later\n",
    "  # tf.initialize_all_variables().run() # v0.11 and earlier\n",
    "  print(\"Initialized\")\n",
    "  for step in range(num_steps):\n",
    "    # Pick an offset within the training data, which has been randomized.\n",
    "    # Note: we could use better randomization across epochs.\n",
    "    offset = (step * batch_size) % (train_labels.shape[0] - batch_size)\n",
    "    # Generate a minibatch.\n",
    "    batch_data = train_dataset[offset:(offset + batch_size), :]\n",
    "    batch_labels = train_labels[offset:(offset + batch_size), :]\n",
    "    # Prepare a dictionary telling the session where to feed the minibatch.\n",
    "    # The key of the dictionary is the placeholder node of the graph to be fed,\n",
    "    # and the value is the numpy array to feed to it.\n",
    "    feed_dict = {tf_train_dataset : batch_data, tf_train_labels : batch_labels}\n",
    "    _, l, predictions = session.run(\n",
    "      [optimizer, loss, train_prediction], feed_dict=feed_dict)\n",
    "    if (step % 500 == 0):\n",
    "      print(\"Minibatch loss at step %d: %f\" % (step, l))\n",
    "      print(\"Minibatch accuracy: %.1f%%\" % accuracy(predictions, batch_labels))\n",
    "      print(\"Validation accuracy: %.1f%%\" % accuracy(\n",
    "        valid_prediction.eval(), valid_labels))\n",
    "  print(\"Test accuracy: %.1f%%\" % accuracy(test_prediction.eval(), test_labels))"
   ]
  },
  {
   "cell_type": "markdown",
   "metadata": {},
   "source": [
    "### Neutral Network"
   ]
  },
  {
   "cell_type": "code",
   "execution_count": 7,
   "metadata": {
    "collapsed": false
   },
   "outputs": [],
   "source": [
    "batch_size = 128\n",
    "num_nodes = 1024\n",
    "L2_beta = 0.01 # beta for L2 loss regularization\n",
    "\n",
    "graph = tf.Graph()\n",
    "with graph.as_default():\n",
    "    \n",
    "  # Input data. We use a placeholder that will be fed\n",
    "  tf_dataset = tf.placeholder(tf.float32, shape=(None, image_size * image_size))  \n",
    "  tf_labels = tf.placeholder(tf.float32, shape=(None, num_labels))\n",
    "\n",
    "  # Matrix 1 Variables.\n",
    "  weights_1 = tf.Variable(tf.truncated_normal([image_size * image_size, num_nodes]))\n",
    "  biases_1 = tf.Variable(tf.zeros([num_nodes]))\n",
    "\n",
    "  # Matrix 2 Variables.\n",
    "  weights_2 = tf.Variable(tf.truncated_normal([num_nodes, num_labels]))\n",
    "  biases_2 = tf.Variable(tf.zeros([num_labels]))\n",
    "\n",
    "  # Training computation.\n",
    "  logits_1 = tf.matmul(tf_dataset, weights_1) + biases_1\n",
    "  hidden_1 = tf.nn.relu(logits_1)\n",
    "  logits_2 = tf.matmul(hidden_1, weights_2) + biases_2\n",
    "  L2_loss = L2_beta * (tf.nn.l2_loss(weights_1) + tf.nn.l2_loss(weights_2) + \\\n",
    "                       tf.nn.l2_loss(biases_1) + tf.nn.l2_loss(biases_2))\n",
    "\n",
    "  loss = tf.reduce_mean(tf.nn.softmax_cross_entropy_with_logits(logits_2, tf_labels)) + L2_loss\n",
    "  \n",
    "  # Optimizer.\n",
    "  optimizer = tf.train.GradientDescentOptimizer(0.5).minimize(loss)\n",
    "\n",
    "  # Prediction\n",
    "  label_prediction = tf.nn.softmax(logits_2)"
   ]
  },
  {
   "cell_type": "code",
   "execution_count": 8,
   "metadata": {
    "collapsed": false
   },
   "outputs": [
    {
     "name": "stdout",
     "output_type": "stream",
     "text": [
      "Initialized\n",
      "Minibatch loss at step 0: 3475.278076\n",
      "Minibatch accuracy: 13.3%\n",
      "Validation accuracy: 25.5%\n",
      "Minibatch loss at step 500: 21.243954\n",
      "Minibatch accuracy: 88.3%\n",
      "Validation accuracy: 83.5%\n",
      "Minibatch loss at step 1000: 0.801272\n",
      "Minibatch accuracy: 85.2%\n",
      "Validation accuracy: 82.1%\n",
      "Minibatch loss at step 1500: 0.734001\n",
      "Minibatch accuracy: 82.0%\n",
      "Validation accuracy: 83.5%\n",
      "Minibatch loss at step 2000: 0.662900\n",
      "Minibatch accuracy: 86.7%\n",
      "Validation accuracy: 81.7%\n",
      "Minibatch loss at step 2500: 0.713857\n",
      "Minibatch accuracy: 85.2%\n",
      "Validation accuracy: 83.0%\n",
      "Minibatch loss at step 3000: 0.645531\n",
      "Minibatch accuracy: 85.9%\n",
      "Validation accuracy: 83.0%\n",
      "Test accuracy: 89.6%\n"
     ]
    }
   ],
   "source": [
    "num_steps = 3001\n",
    "\n",
    "with tf.Session(graph=graph) as session:\n",
    "  tf.global_variables_initializer().run() # v0.12 and later\n",
    "  # tf.initialize_all_variables().run() # v0.11 and earlier\n",
    "  print(\"Initialized\")\n",
    "  for step in range(num_steps):\n",
    "    # Pick an offset within the training data, which has been randomized.\n",
    "    # Note: we could use better randomization across epochs.\n",
    "    offset = (step * batch_size) % (train_labels.shape[0] - batch_size)\n",
    "    # Generate a minibatch.\n",
    "    batch_data = train_dataset[offset:(offset + batch_size), :]\n",
    "    batch_labels = train_labels[offset:(offset + batch_size), :]\n",
    "    # Prepare a dictionary telling the session where to feed the minibatch.\n",
    "    # The key of the dictionary is the placeholder node of the graph to be fed,\n",
    "    # and the value is the numpy array to feed to it.\n",
    "    feed_dict = {tf_dataset : batch_data, tf_labels : batch_labels}\n",
    "    _, l, predictions = session.run([optimizer, loss, label_prediction], feed_dict=feed_dict)\n",
    "    if (step % 500 == 0):\n",
    "      print(\"Minibatch loss at step %d: %f\" % (step, l))\n",
    "      print(\"Minibatch accuracy: %.1f%%\" % accuracy(predictions, batch_labels))\n",
    "      print(\"Validation accuracy: %.1f%%\" % accuracy(\n",
    "        label_prediction.eval(feed_dict = {tf_dataset: valid_dataset}), valid_labels))\n",
    "  print(\"Test accuracy: %.1f%%\" % accuracy(label_prediction.eval(feed_dict = {tf_dataset: test_dataset}), test_labels))"
   ]
  },
  {
   "cell_type": "markdown",
   "metadata": {
    "colab_type": "text",
    "id": "na8xX2yHZzNF"
   },
   "source": [
    "---\n",
    "Problem 2\n",
    "---------\n",
    "Let's demonstrate an extreme case of overfitting. Restrict your training data to just a few batches. What happens?\n",
    "\n",
    "---"
   ]
  },
  {
   "cell_type": "code",
   "execution_count": 9,
   "metadata": {
    "collapsed": false
   },
   "outputs": [
    {
     "name": "stdout",
     "output_type": "stream",
     "text": [
      "Initialized\n",
      "Minibatch loss at step 0: 3420.047607\n",
      "Minibatch accuracy: 13.3%\n",
      "Validation accuracy: 36.1%\n",
      "Minibatch loss at step 500: 20.965714\n",
      "Minibatch accuracy: 100.0%\n",
      "Validation accuracy: 70.3%\n",
      "Minibatch loss at step 1000: 0.319944\n",
      "Minibatch accuracy: 100.0%\n",
      "Validation accuracy: 73.1%\n",
      "Minibatch loss at step 1500: 0.175672\n",
      "Minibatch accuracy: 100.0%\n",
      "Validation accuracy: 73.2%\n",
      "Minibatch loss at step 2000: 0.171789\n",
      "Minibatch accuracy: 100.0%\n",
      "Validation accuracy: 73.2%\n",
      "Minibatch loss at step 2500: 0.170314\n",
      "Minibatch accuracy: 100.0%\n",
      "Validation accuracy: 73.2%\n",
      "Minibatch loss at step 3000: 0.169577\n",
      "Minibatch accuracy: 100.0%\n",
      "Validation accuracy: 73.2%\n",
      "Test accuracy: 80.0%\n"
     ]
    }
   ],
   "source": [
    "num_steps = 3001\n",
    "\n",
    "with tf.Session(graph=graph) as session:\n",
    "  tf.global_variables_initializer().run() # v0.12 and later\n",
    "  # tf.initialize_all_variables().run() # v0.11 and earlier\n",
    "  print(\"Initialized\")\n",
    "  for step in range(num_steps):\n",
    "    # Pick an offset within the training data, which has been randomized.\n",
    "    # Note: we could use better randomization across epochs.\n",
    "    offset = np.random.choice(np.arange(10)) # Reduce the number of batches to 10.\n",
    "    # Generate a minibatch.\n",
    "    batch_data = train_dataset[offset:(offset + batch_size), :]\n",
    "    batch_labels = train_labels[offset:(offset + batch_size), :]\n",
    "    # Prepare a dictionary telling the session where to feed the minibatch.\n",
    "    # The key of the dictionary is the placeholder node of the graph to be fed,\n",
    "    # and the value is the numpy array to feed to it.\n",
    "    feed_dict = {tf_dataset : batch_data, tf_labels : batch_labels}\n",
    "    _, l, predictions = session.run([optimizer, loss, label_prediction], feed_dict=feed_dict)\n",
    "    if (step % 500 == 0):\n",
    "      print(\"Minibatch loss at step %d: %f\" % (step, l))\n",
    "      print(\"Minibatch accuracy: %.1f%%\" % accuracy(predictions, batch_labels))\n",
    "      print(\"Validation accuracy: %.1f%%\" % accuracy(\n",
    "        label_prediction.eval(feed_dict = {tf_dataset: valid_dataset}), valid_labels))\n",
    "  print(\"Test accuracy: %.1f%%\" % accuracy(label_prediction.eval(feed_dict = {tf_dataset: test_dataset}), test_labels))"
   ]
  },
  {
   "cell_type": "markdown",
   "metadata": {},
   "source": [
    "In this extreme case, the model classified the few training sets accurately with an accuracy of 100.0%. However, the classification of validation and test sets was bad, suggesting a problem of overfitting."
   ]
  },
  {
   "cell_type": "markdown",
   "metadata": {
    "colab_type": "text",
    "id": "ww3SCBUdlkRc"
   },
   "source": [
    "---\n",
    "Problem 3\n",
    "---------\n",
    "Introduce Dropout on the hidden layer of the neural network. Remember: Dropout should only be introduced during training, not evaluation, otherwise your evaluation results would be stochastic as well. TensorFlow provides `nn.dropout()` for that, but you have to make sure it's only inserted during training.\n",
    "\n",
    "What happens to our extreme overfitting case?\n",
    "\n",
    "---"
   ]
  },
  {
   "cell_type": "markdown",
   "metadata": {},
   "source": [
    "### Dropout in Neural Network\n",
    "Remember to turn off L2 regularization in this case."
   ]
  },
  {
   "cell_type": "code",
   "execution_count": 10,
   "metadata": {
    "collapsed": true
   },
   "outputs": [],
   "source": [
    "batch_size = 128\n",
    "num_nodes = 1024\n",
    "L2_beta = 0 # beta for L2 loss regularization\n",
    "keep_prob = 0.5 # keep_prob of dropout\n",
    "\n",
    "graph = tf.Graph()\n",
    "with graph.as_default():\n",
    "    \n",
    "  # Input data. We use a placeholder that will be fed\n",
    "  tf_dataset = tf.placeholder(tf.float32, shape=(None, image_size * image_size))  \n",
    "  tf_labels = tf.placeholder(tf.float32, shape=(None, num_labels))\n",
    "\n",
    "  # Matrix 1 Variables.\n",
    "  weights_1 = tf.Variable(tf.truncated_normal([image_size * image_size, num_nodes]))\n",
    "  biases_1 = tf.Variable(tf.zeros([num_nodes]))\n",
    "\n",
    "  # Matrix 2 Variables.\n",
    "  weights_2 = tf.Variable(tf.truncated_normal([num_nodes, num_labels]))\n",
    "  biases_2 = tf.Variable(tf.zeros([num_labels]))\n",
    "\n",
    "  # Training computation.\n",
    "  logits_1 = tf.matmul(tf_dataset, weights_1) + biases_1\n",
    "  hidden_1 = tf.nn.relu(logits_1)\n",
    "  hidden_1_dropout = tf.nn.dropout(hidden_1, keep_prob = keep_prob)\n",
    "  logits_2 = tf.matmul(hidden_1, weights_2) + biases_2\n",
    "  logits_2_training = tf.matmul(hidden_1_dropout, weights_2) + biases_2\n",
    "  L2_loss = L2_beta * (tf.nn.l2_loss(weights_1) + tf.nn.l2_loss(weights_2) + \\\n",
    "                       tf.nn.l2_loss(biases_1) + tf.nn.l2_loss(biases_2))\n",
    "\n",
    "  loss = tf.reduce_mean(tf.nn.softmax_cross_entropy_with_logits(logits_2_training, tf_labels)) + L2_loss\n",
    "  \n",
    "  # Optimizer.\n",
    "  optimizer = tf.train.GradientDescentOptimizer(0.5).minimize(loss)\n",
    "\n",
    "  # Prediction\n",
    "  label_prediction = tf.nn.softmax(logits_2)"
   ]
  },
  {
   "cell_type": "code",
   "execution_count": 11,
   "metadata": {
    "collapsed": false
   },
   "outputs": [
    {
     "name": "stdout",
     "output_type": "stream",
     "text": [
      "Initialized\n",
      "Minibatch loss at step 0: 508.056885\n",
      "Minibatch accuracy: 9.4%\n",
      "Validation accuracy: 35.5%\n",
      "Minibatch loss at step 500: 25.894566\n",
      "Minibatch accuracy: 78.1%\n",
      "Validation accuracy: 80.3%\n",
      "Minibatch loss at step 1000: 19.429434\n",
      "Minibatch accuracy: 81.2%\n",
      "Validation accuracy: 78.6%\n",
      "Minibatch loss at step 1500: 13.149889\n",
      "Minibatch accuracy: 75.8%\n",
      "Validation accuracy: 79.4%\n",
      "Minibatch loss at step 2000: 11.261938\n",
      "Minibatch accuracy: 82.0%\n",
      "Validation accuracy: 79.6%\n",
      "Minibatch loss at step 2500: 15.167459\n",
      "Minibatch accuracy: 75.8%\n",
      "Validation accuracy: 80.2%\n",
      "Minibatch loss at step 3000: 9.872648\n",
      "Minibatch accuracy: 84.4%\n",
      "Validation accuracy: 77.5%\n",
      "Test accuracy: 84.6%\n"
     ]
    }
   ],
   "source": [
    "num_steps = 3001\n",
    "\n",
    "with tf.Session(graph=graph) as session:\n",
    "  tf.global_variables_initializer().run() # v0.12 and later\n",
    "  # tf.initialize_all_variables().run() # v0.11 and earlier\n",
    "  print(\"Initialized\")\n",
    "  for step in range(num_steps):\n",
    "    # Pick an offset within the training data, which has been randomized.\n",
    "    # Note: we could use better randomization across epochs.\n",
    "    offset = (step * batch_size) % (train_labels.shape[0] - batch_size)\n",
    "    # Generate a minibatch.\n",
    "    batch_data = train_dataset[offset:(offset + batch_size), :]\n",
    "    batch_labels = train_labels[offset:(offset + batch_size), :]\n",
    "    # Prepare a dictionary telling the session where to feed the minibatch.\n",
    "    # The key of the dictionary is the placeholder node of the graph to be fed,\n",
    "    # and the value is the numpy array to feed to it.\n",
    "    feed_dict = {tf_dataset : batch_data, tf_labels : batch_labels}\n",
    "    _, l, predictions = session.run([optimizer, loss, label_prediction], feed_dict=feed_dict)\n",
    "    if (step % 500 == 0):\n",
    "      print(\"Minibatch loss at step %d: %f\" % (step, l))\n",
    "      print(\"Minibatch accuracy: %.1f%%\" % accuracy(predictions, batch_labels))\n",
    "      print(\"Validation accuracy: %.1f%%\" % accuracy(\n",
    "        label_prediction.eval(feed_dict = {tf_dataset: valid_dataset}), valid_labels))\n",
    "  print(\"Test accuracy: %.1f%%\" % accuracy(label_prediction.eval(feed_dict = {tf_dataset: test_dataset}), test_labels))"
   ]
  },
  {
   "cell_type": "markdown",
   "metadata": {},
   "source": [
    "### Dropout in the extreme overfitting case\n",
    "Remember to turn off L2 regularization in this case."
   ]
  },
  {
   "cell_type": "code",
   "execution_count": 12,
   "metadata": {
    "collapsed": false
   },
   "outputs": [
    {
     "name": "stdout",
     "output_type": "stream",
     "text": [
      "Initialized\n",
      "Minibatch loss at step 0: 368.757172\n",
      "Minibatch accuracy: 21.1%\n",
      "Validation accuracy: 27.1%\n",
      "Minibatch loss at step 500: 0.000000\n",
      "Minibatch accuracy: 100.0%\n",
      "Validation accuracy: 71.1%\n",
      "Minibatch loss at step 1000: 0.000000\n",
      "Minibatch accuracy: 100.0%\n",
      "Validation accuracy: 72.9%\n",
      "Minibatch loss at step 1500: 0.000000\n",
      "Minibatch accuracy: 100.0%\n",
      "Validation accuracy: 72.6%\n",
      "Minibatch loss at step 2000: 0.000000\n",
      "Minibatch accuracy: 100.0%\n",
      "Validation accuracy: 72.2%\n",
      "Minibatch loss at step 2500: 0.000000\n",
      "Minibatch accuracy: 100.0%\n",
      "Validation accuracy: 72.8%\n",
      "Minibatch loss at step 3000: 0.000000\n",
      "Minibatch accuracy: 100.0%\n",
      "Validation accuracy: 72.5%\n",
      "Test accuracy: 79.5%\n"
     ]
    }
   ],
   "source": [
    "num_steps = 3001\n",
    "\n",
    "with tf.Session(graph=graph) as session:\n",
    "  tf.global_variables_initializer().run() # v0.12 and later\n",
    "  # tf.initialize_all_variables().run() # v0.11 and earlier\n",
    "  print(\"Initialized\")\n",
    "  for step in range(num_steps):\n",
    "    # Pick an offset within the training data, which has been randomized.\n",
    "    # Note: we could use better randomization across epochs.\n",
    "    offset = np.random.choice(np.arange(10)) # Reduce the number of batches to 10.\n",
    "    # Generate a minibatch.\n",
    "    batch_data = train_dataset[offset:(offset + batch_size), :]\n",
    "    batch_labels = train_labels[offset:(offset + batch_size), :]\n",
    "    # Prepare a dictionary telling the session where to feed the minibatch.\n",
    "    # The key of the dictionary is the placeholder node of the graph to be fed,\n",
    "    # and the value is the numpy array to feed to it.\n",
    "    feed_dict = {tf_dataset : batch_data, tf_labels : batch_labels}\n",
    "    _, l, predictions = session.run([optimizer, loss, label_prediction], feed_dict=feed_dict)\n",
    "    if (step % 500 == 0):\n",
    "      print(\"Minibatch loss at step %d: %f\" % (step, l))\n",
    "      print(\"Minibatch accuracy: %.1f%%\" % accuracy(predictions, batch_labels))\n",
    "      print(\"Validation accuracy: %.1f%%\" % accuracy(\n",
    "        label_prediction.eval(feed_dict = {tf_dataset: valid_dataset}), valid_labels))\n",
    "  print(\"Test accuracy: %.1f%%\" % accuracy(label_prediction.eval(feed_dict = {tf_dataset: test_dataset}), test_labels))"
   ]
  },
  {
   "cell_type": "markdown",
   "metadata": {},
   "source": [
    "Honestly, dropout did not improve the model and the extreme overfitting case."
   ]
  },
  {
   "cell_type": "markdown",
   "metadata": {
    "colab_type": "text",
    "id": "-b1hTz3VWZjw"
   },
   "source": [
    "---\n",
    "Problem 4\n",
    "---------\n",
    "\n",
    "Try to get the best performance you can using a multi-layer model! The best reported test accuracy using a deep network is [97.1%](http://yaroslavvb.blogspot.com/2011/09/notmnist-dataset.html?showComment=1391023266211#c8758720086795711595).\n",
    "\n",
    "One avenue you can explore is to add multiple layers.\n",
    "\n",
    "Another one is to use learning rate decay:\n",
    "\n",
    "    global_step = tf.Variable(0)  # count the number of steps taken.\n",
    "    learning_rate = tf.train.exponential_decay(0.5, global_step, ...)\n",
    "    optimizer = tf.train.GradientDescentOptimizer(learning_rate).minimize(loss, global_step=global_step)\n",
    " \n",
    " ---\n"
   ]
  },
  {
   "cell_type": "markdown",
   "metadata": {
    "collapsed": true
   },
   "source": [
    "### 4-Layer Model"
   ]
  },
  {
   "cell_type": "markdown",
   "metadata": {},
   "source": [
    "2 hidden Layers ( Toal 4 layers ) - without convolution - Test Accuracy = 95.8 %\n",
    "\n",
    "Architecture\n",
    "3 Layer Neural Network(No convolution) = input-784, hidden1-960, hidden2=650 output=10\n",
    "L2- Regularization with lambda(regularization parameter) = .0005\n",
    "Number of steps = 75000\n",
    "Batch size = 1000"
   ]
  },
  {
   "cell_type": "code",
   "execution_count": 13,
   "metadata": {
    "collapsed": true
   },
   "outputs": [],
   "source": [
    "batch_size = 1000\n",
    "num_nodes_1 = 960\n",
    "num_nodes_2 = 650\n",
    "L2_beta = 0.0005 # beta for L2 loss regularization\n",
    "\n",
    "graph = tf.Graph()\n",
    "with graph.as_default():\n",
    "    \n",
    "  # Input data. We use a placeholder that will be fed\n",
    "  tf_dataset = tf.placeholder(tf.float32, shape=(None, image_size * image_size))  \n",
    "  tf_labels = tf.placeholder(tf.float32, shape=(None, num_labels))\n",
    "\n",
    "  # Matrix 1 Variables.\n",
    "  weights_1 = tf.Variable(tf.truncated_normal([image_size * image_size, num_nodes_1]))\n",
    "  biases_1 = tf.Variable(tf.zeros([num_nodes_1]))\n",
    "\n",
    "  # Matrix 2 Variables.\n",
    "  weights_2 = tf.Variable(tf.truncated_normal([num_nodes_1, num_nodes_2]))\n",
    "  biases_2 = tf.Variable(tf.zeros([num_nodes_2]))\n",
    "\n",
    "  # Matrix 3 Variables.\n",
    "  weights_3 = tf.Variable(tf.truncated_normal([num_nodes_2, num_labels]))\n",
    "  biases_3 = tf.Variable(tf.zeros([num_labels]))\n",
    "\n",
    "\n",
    "\n",
    "  # Training computation.\n",
    "  logits_1 = tf.matmul(tf_dataset, weights_1) + biases_1\n",
    "  hidden_1 = tf.nn.relu(logits_1)\n",
    "  logits_2 = tf.matmul(hidden_1, weights_2) + biases_2\n",
    "  hidden_2 = tf.nn.relu(logits_2)\n",
    "  logits_3 = tf.matmul(hidden_2, weights_3) + biases_3\n",
    "\n",
    "    \n",
    "  L2_loss = L2_beta * (tf.nn.l2_loss(weights_1) + tf.nn.l2_loss(biases_1) + \\\n",
    "                       tf.nn.l2_loss(weights_2) + tf.nn.l2_loss(biases_2) + \\\n",
    "                       tf.nn.l2_loss(weights_3) + tf.nn.l2_loss(biases_3))\n",
    "\n",
    "  loss = tf.reduce_mean(tf.nn.softmax_cross_entropy_with_logits(logits_3, tf_labels)) + L2_loss\n",
    "  \n",
    "  # Optimizer.\n",
    "  # Optimizer 1\n",
    "  optimizer = tf.train.GradientDescentOptimizer(0.0005).minimize(loss)\n",
    "  # Optimizer 2\n",
    "  #global_step = tf.Variable(0)  # count the number of steps taken.\n",
    "  #learning_rate = tf.train.exponential_decay(0.0005, global_step, decay_steps = 100, decay_rate = 0.95, staircase=True)\n",
    "  #optimizer = tf.train.GradientDescentOptimizer(learning_rate).minimize(loss, global_step=global_step)\n",
    "\n",
    "  # Prediction\n",
    "  label_prediction = tf.nn.softmax(logits_3)"
   ]
  },
  {
   "cell_type": "code",
   "execution_count": 14,
   "metadata": {
    "collapsed": false
   },
   "outputs": [
    {
     "name": "stdout",
     "output_type": "stream",
     "text": [
      "Initialized\n",
      "Minibatch loss at step 0: 6013.107422\n",
      "Minibatch accuracy: 7.5%\n",
      "Validation accuracy: 9.2%\n",
      "Minibatch loss at step 500: 708.932129\n",
      "Minibatch accuracy: 76.4%\n",
      "Validation accuracy: 74.7%\n",
      "Minibatch loss at step 1000: 610.854126\n",
      "Minibatch accuracy: 79.8%\n",
      "Validation accuracy: 76.7%\n",
      "Minibatch loss at step 1500: 562.949890\n",
      "Minibatch accuracy: 80.1%\n",
      "Validation accuracy: 77.7%\n",
      "Minibatch loss at step 2000: 566.094727\n",
      "Minibatch accuracy: 79.0%\n",
      "Validation accuracy: 78.2%\n",
      "Minibatch loss at step 2500: 504.578430\n",
      "Minibatch accuracy: 80.5%\n",
      "Validation accuracy: 78.7%\n",
      "Minibatch loss at step 3000: 456.334625\n",
      "Minibatch accuracy: 80.9%\n",
      "Validation accuracy: 79.1%\n",
      "Minibatch loss at step 3500: 483.216431\n",
      "Minibatch accuracy: 79.0%\n",
      "Validation accuracy: 79.5%\n",
      "Minibatch loss at step 4000: 451.775391\n",
      "Minibatch accuracy: 82.2%\n",
      "Validation accuracy: 79.7%\n",
      "Minibatch loss at step 4500: 435.783722\n",
      "Minibatch accuracy: 81.9%\n",
      "Validation accuracy: 80.0%\n",
      "Minibatch loss at step 5000: 438.432892\n",
      "Minibatch accuracy: 80.9%\n",
      "Validation accuracy: 79.8%\n",
      "Minibatch loss at step 5500: 391.340881\n",
      "Minibatch accuracy: 83.8%\n",
      "Validation accuracy: 80.1%\n",
      "Minibatch loss at step 6000: 420.057495\n",
      "Minibatch accuracy: 80.8%\n",
      "Validation accuracy: 80.3%\n",
      "Minibatch loss at step 6500: 400.901062\n",
      "Minibatch accuracy: 84.2%\n",
      "Validation accuracy: 80.6%\n",
      "Minibatch loss at step 7000: 387.963318\n",
      "Minibatch accuracy: 82.5%\n",
      "Validation accuracy: 80.6%\n",
      "Minibatch loss at step 7500: 401.074341\n",
      "Minibatch accuracy: 81.8%\n",
      "Validation accuracy: 80.8%\n",
      "Test accuracy: 88.2%\n"
     ]
    }
   ],
   "source": [
    "num_steps = 7501\n",
    "\n",
    "with tf.Session(graph=graph) as session:\n",
    "  tf.global_variables_initializer().run() # v0.12 and later\n",
    "  # tf.initialize_all_variables().run() # v0.11 and earlier\n",
    "  print(\"Initialized\")\n",
    "  for step in range(num_steps):\n",
    "    # Pick an offset within the training data, which has been randomized.\n",
    "    # Note: we could use better randomization across epochs.\n",
    "    offset = (step * batch_size) % (train_labels.shape[0] - batch_size)\n",
    "    # Generate a minibatch.\n",
    "    batch_data = train_dataset[offset:(offset + batch_size), :]\n",
    "    batch_labels = train_labels[offset:(offset + batch_size), :]\n",
    "    # Prepare a dictionary telling the session where to feed the minibatch.\n",
    "    # The key of the dictionary is the placeholder node of the graph to be fed,\n",
    "    # and the value is the numpy array to feed to it.\n",
    "    feed_dict = {tf_dataset : batch_data, tf_labels : batch_labels}\n",
    "    _, l, predictions = session.run([optimizer, loss, label_prediction], feed_dict=feed_dict)\n",
    "    if (step % 500 == 0):\n",
    "      print(\"Minibatch loss at step %d: %f\" % (step, l))\n",
    "      print(\"Minibatch accuracy: %.1f%%\" % accuracy(predictions, batch_labels))\n",
    "      print(\"Validation accuracy: %.1f%%\" % accuracy(\n",
    "        label_prediction.eval(feed_dict = {tf_dataset: valid_dataset}), valid_labels))\n",
    "  print(\"Test accuracy: %.1f%%\" % accuracy(label_prediction.eval(feed_dict = {tf_dataset: test_dataset}), test_labels))"
   ]
  },
  {
   "cell_type": "markdown",
   "metadata": {
    "collapsed": true
   },
   "source": [
    "### 5-Layer Model"
   ]
  },
  {
   "cell_type": "code",
   "execution_count": 55,
   "metadata": {
    "collapsed": true
   },
   "outputs": [],
   "source": [
    "batch_size = 128\n",
    "num_nodes_1 = 1024\n",
    "num_nodes_2 = 300\n",
    "num_nodes_3 = 50\n",
    "L2_beta = 0.01 # beta for L2 loss regularization\n",
    "\n",
    "graph = tf.Graph()\n",
    "with graph.as_default():\n",
    "    \n",
    "  # Input data. We use a placeholder that will be fed\n",
    "  tf_dataset = tf.placeholder(tf.float32, shape=(None, image_size * image_size))  \n",
    "  tf_labels = tf.placeholder(tf.float32, shape=(None, num_labels))\n",
    "\n",
    "  # Matrix 1 Variables.\n",
    "  weights_1 = tf.Variable(tf.truncated_normal([image_size * image_size, num_nodes_1]))\n",
    "  biases_1 = tf.Variable(tf.zeros([num_nodes_1]))\n",
    "\n",
    "  # Matrix 2 Variables.\n",
    "  weights_2 = tf.Variable(tf.truncated_normal([num_nodes_1, num_nodes_2]))\n",
    "  biases_2 = tf.Variable(tf.zeros([num_nodes_2]))\n",
    "\n",
    "  # Matrix 3 Variables.\n",
    "  weights_3 = tf.Variable(tf.truncated_normal([num_nodes_2, num_nodes_3]))\n",
    "  biases_3 = tf.Variable(tf.zeros([num_nodes_3]))\n",
    "\n",
    "  # Matrix 4 Variables.\n",
    "  weights_4 = tf.Variable(tf.truncated_normal([num_nodes_3, num_labels]))\n",
    "  biases_4 = tf.Variable(tf.zeros([num_labels]))\n",
    "\n",
    "  # Training computation.\n",
    "  logits_1 = tf.matmul(tf_dataset, weights_1) + biases_1\n",
    "  hidden_1 = tf.nn.relu(logits_1)\n",
    "  logits_2 = tf.matmul(hidden_1, weights_2) + biases_2\n",
    "  hidden_2 = tf.nn.relu(logits_2)\n",
    "  logits_3 = tf.matmul(hidden_2, weights_3) + biases_3\n",
    "  hidden_3 = tf.nn.relu(logits_3)\n",
    "  logits_4 = tf.matmul(hidden_3, weights_4) + biases_4\n",
    "    \n",
    "    \n",
    "    \n",
    "  L2_loss = L2_beta * (tf.nn.l2_loss(weights_1) + tf.nn.l2_loss(biases_1) + \\\n",
    "                       tf.nn.l2_loss(weights_2) + tf.nn.l2_loss(biases_2) + \\\n",
    "                       tf.nn.l2_loss(weights_3) + tf.nn.l2_loss(biases_3) + \\\n",
    "                       tf.nn.l2_loss(weights_4) + tf.nn.l2_loss(biases_4))\n",
    "\n",
    "  loss = tf.reduce_mean(tf.nn.softmax_cross_entropy_with_logits(logits_4, tf_labels)) + L2_loss\n",
    "  \n",
    "  # Optimizer.\n",
    "  # Optimizer 1\n",
    "  #optimizer = tf.train.GradientDescentOptimizer(0.00005).minimize(loss)\n",
    "  # Optimizer 2\n",
    "  global_step = tf.Variable(0)  # count the number of steps taken.\n",
    "  learning_rate = tf.train.exponential_decay(0.0005, global_step,1000,0.90,staircase=True)\n",
    "  optimizer = tf.train.GradientDescentOptimizer(learning_rate).minimize(loss, global_step=global_step)\n",
    "\n",
    "  # Prediction\n",
    "  label_prediction = tf.nn.softmax(logits_4)"
   ]
  },
  {
   "cell_type": "code",
   "execution_count": null,
   "metadata": {
    "collapsed": true
   },
   "outputs": [],
   "source": [
    "num_steps = 60010\n",
    "\n",
    "with tf.Session(graph=graph) as session:\n",
    "  tf.global_variables_initializer().run() # v0.12 and later\n",
    "  # tf.initialize_all_variables().run() # v0.11 and earlier\n",
    "  print(\"Initialized\")\n",
    "  for step in range(num_steps):\n",
    "    # Pick an offset within the training data, which has been randomized.\n",
    "    # Note: we could use better randomization across epochs.\n",
    "    offset = (step * batch_size) % (train_labels.shape[0] - batch_size)\n",
    "    # Generate a minibatch.\n",
    "    batch_data = train_dataset[offset:(offset + batch_size), :]\n",
    "    batch_labels = train_labels[offset:(offset + batch_size), :]\n",
    "    # Prepare a dictionary telling the session where to feed the minibatch.\n",
    "    # The key of the dictionary is the placeholder node of the graph to be fed,\n",
    "    # and the value is the numpy array to feed to it.\n",
    "    feed_dict = {tf_dataset : batch_data, tf_labels : batch_labels}\n",
    "    _, l, predictions = session.run([optimizer, loss, label_prediction], feed_dict=feed_dict)\n",
    "    if (step % 500 == 0):\n",
    "      print(\"Minibatch loss at step %d: %f\" % (step, l))\n",
    "      print(\"Minibatch accuracy: %.1f%%\" % accuracy(predictions, batch_labels))\n",
    "      print(\"Validation accuracy: %.1f%%\" % accuracy(\n",
    "        label_prediction.eval(feed_dict = {tf_dataset: valid_dataset}), valid_labels))\n",
    "  print(\"Test accuracy: %.1f%%\" % accuracy(label_prediction.eval(feed_dict = {tf_dataset: test_dataset}), test_labels))"
   ]
  },
  {
   "cell_type": "code",
   "execution_count": null,
   "metadata": {
    "collapsed": true
   },
   "outputs": [],
   "source": []
  }
 ],
 "metadata": {
  "colab": {
   "default_view": {},
   "name": "3_regularization.ipynb",
   "provenance": [],
   "version": "0.3.2",
   "views": {}
  },
  "kernelspec": {
   "display_name": "Python 2",
   "language": "python",
   "name": "python2"
  },
  "language_info": {
   "codemirror_mode": {
    "name": "ipython",
    "version": 2
   },
   "file_extension": ".py",
   "mimetype": "text/x-python",
   "name": "python",
   "nbconvert_exporter": "python",
   "pygments_lexer": "ipython2",
   "version": "2.7.12"
  }
 },
 "nbformat": 4,
 "nbformat_minor": 0
}
